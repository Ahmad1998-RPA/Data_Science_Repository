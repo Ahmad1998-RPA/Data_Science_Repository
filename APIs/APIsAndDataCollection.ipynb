{
 "cells": [
  {
   "cell_type": "markdown",
   "metadata": {},
   "source": [
    "# Glossary: APIs and Data Collection\n",
    "Welcome! This alphabetized glossary contains many of the terms you'll find within this course. This comprehensive glossary also includes additional industry-recognized terms not used in course videos. These terms are important for you to recognize when working in the industry, participating in user groups, and participating in other certificate programs.\n",
    "\n",
    "|Term|Definition|\n",
    "|----|----------|\n",
    "|API Key|An API key in Python is a secure access token or code used to authenticate and authorize access to an API or web service, enabling the user to make authenticated requests.|\n",
    "|APIs|APIs (Application Programming Interfaces) are a set of rules and protocols that enable different software applications to communicate and interact, facilitating the exchange of data and functionality.|\n",
    "|Audio file|An audio file is a digital recording or representation of sound, often stored in formats like MP3, WAV, or FLAC, allowing playback and storage of audio content.|\n",
    "|Authorize|\tIn Python, \"authorize\" often means granting permission or access to a user or system to perform specific actions or access particular resources, often related to authentication and authorization mechanisms.|\n",
    "|Beautiful Soup Objects|Beautiful Soup objects in Python are representations of parsed HTML or XML documents, allowing easy navigation, searching, and manipulation of the document’s elements and data.|\n",
    "|Bitcoin currency|Bitcoin is a decentralized digital currency that operates without a central authority, allowing peer-to-peer transactions on a blockchain network.|\n",
    "|Browser|A browser is a software application that enables users to access and interact with web content, displaying websites and web applications.|\n",
    "|Candlestick plot|A candlestick plot in Python visually represents stock price movements over time, using rectangles to illustrate the open, close, high, and low prices for a given period.|\n",
    "|Client/Wrapper|A client or wrapper in Python is a software component that simplifies interaction with external services or APIs, encapsulating communication and providing higher-level functionality for developers.|\n",
    "|CoinGecko API|\tThe CoinGecko API is a web service that provides cryptocurrency market data and information, allowing developers to access real-time and historical data for various cryptocurrencies.|\n",
    "|DELETE Method|\tThe DELETE method in Python is an HTTP request method used to request the removal or deletion of a resource on a web server.|\n",
    "|Endpoint|\tIn Python, an \"endpoint\" refers to a specific URL or URI that a web service or API exposes to perform a particular function or access a resource.|\n",
    "|File extension|A file extension is a suffix added to a filename to indicate the file's format or type, often used by operating systems and applications to determine how to handle the file.|\n",
    "|find_all|In Python, find_all is a Beautiful Soup method used to search and extract all occurrences of a specified HTML or XML element, returning a list of matching elements.|\n",
    "|GET method|The GET method in Python is an HTTP request method used to retrieve data from a web server by appending parameters to the URL.|\n",
    "|HTML|HTML (Hypertext Markup Language) is the standard language for creating and structuring content on web pages, using tags to define the structure and presentation of documents.|\n",
    "|HTML Anchor tags|HTML anchor tags in Python are used to create hyperlinks within web pages, linking to other web pages or resources using the <a> element with the href attribute.|\n",
    "|HTML Tables|HTML tables in Python are used to organize and display data in a structured grid format on a web page, constructed with <table>, `<tr>, <th>, and <td>` elements.|\n"
   ]
  },
  {
   "cell_type": "markdown",
   "metadata": {},
   "source": [
    "|Term|Definition|\n",
    "|----|----------|\n",
    "|HTML Tag|An HTML tag in Python is a specific code enclosed in angle brackets used to define elements within an HTML document, specifying how content should be presented or structured.|\n",
    "|HTML Trees|HTML trees in Python refer to the hierarchical structure created when parsing an HTML document, representing its elements and their relationships, typically used for manipulation or extraction of data.|\n",
    "|HTTP|HTTP (HyperText Transfer Protocol) is the foundation of data communication on the World Wide Web, used for transmitting and retrieving web content between clients and servers.|\n",
    "|http lib|A mathematical convention is a fact, name, notation, or usage which is generally agreed upon by mathematicians.|\n",
    "|Identify|In Python, \"identify\" usually means determining if two variables or objects refer to the same memory location, which can be checked using the is operator.|\n",
    "|Instance|In Python, an \"instance\" typically refers to a specific occurrence of an object or class, created from a class blueprint, with its own unique set of data and attributes.|\n",
    "|JSON file|\tA JSON (JavaScript Object Notation) file is a lightweight data interchange format that stores structured data in a human-readable text format, commonly used for configuration, data exchange, and web APIs.|\n",
    "|Mean value|The mean value in Python is the average of a set of numerical values, calculated by adding all values and dividing by the total number of values.|\n",
    "|Navigable string|In Python, a Navigable String is a Beautiful Soup object representing a string within an HTML or XML document, allowing for navigation and manipulation of the text content.|\n",
    "|Plotly|Plotly is a Python library for creating interactive and visually appealing web-based data visualizations and dashboards.|\n",
    "|PNG file|A PNG (Portable Network Graphics) file is a lossless image format in Python that is commonly used for high-quality graphics with support for transparency and compression.|\n",
    "|POST method|The POST method in Python is an HTTP request method used to send data to a web server, often used for submitting form data and creating or updating resources.|\n",
    "|Post request|A POST request in Python is an HTTP method used to send data to a web server for the purpose of creating or updating a resource, typically used in web applications and APIs.|\n",
    "|PUT method|The PUT method in Python is an HTTP request method used to update an existing resource on a web server by replacing or modifying it.|\n",
    "|Py-Coin-Gecko|\tPy-Coin-Gecko is a Python library that provides a convenient interface for accessing cryptocurrency data and information from the CoinGecko API.|\n",
    "|Python iterable|A Python iterable is an object that can be looped over, typically used in for loops, and includes data structures like lists, tuples, and dictionaries.|\n",
    "|Query string|A query string in Python is a part of a URL that contains data or parameters to be sent to a web server, typically used in HTTP GET requests to retrieve specific information.|\n",
    "|rb mode|In Python, \"rb\" mode is used when opening a file to read it in binary mode, allowing you to read and manipulate non-text files like images or binary data.|\n",
    "|Resource|In Python, a \"resource\" typically refers to an external entity such as a file, database connection, or network object that can be managed and manipulated within a program.|\n",
    "|Rest API|A REST API in Python is a web-based interface that follows the principles of Representational State Transfer (REST), allowing communication and data exchange over HTTP using standard HTTP methods and data formats.|\n",
    "|Service instance|In Python, a \"service instance\" typically refers to an instantiated object or entity representing a service, enabling interaction with that service in a program or application.|\n",
    "|Timestamp|\tA timestamp is a representation of a specific moment in time, often expressed as a combination of date and time, used for record-keeping and data tracking.|\n",
    "|Transcribe|\"Transcribe\" typically means converting spoken language or audio into written text, often using automatic speech recognition (ASR) technology.|\n",
    "|Unix timestamp|A UNIX timestamp is a numerical value representing the number of seconds that have elapsed since January 1, 1970, 00:00:00 UTC, used for time-keeping in Unix-based systems and programming.|\n",
    "|url (Uniform Resource Locator)|In Python, a URL (Uniform Resource Locator) is a web address that specifies the location of a resource on the internet, typically consisting of a protocol, domain, and path.|\n",
    "|urllib|The \"urllib\" library in Python is used for working with URLs and making HTTP requests, including functions for fetching web content, handling cookies, and more.|\n",
    "|Web service|Web services in Python are software components that allow applications to communicate over the internet by sending and receiving data in a standardized format, typically using protocols like HTTP or XML.|\n",
    "|Web scraping|Web scraping in Python is the process of extracting data from websites by parsing and analyzing their HTML structure, often done with libraries like BeautifulSoup or Scrapy.|\n",
    "|xlsx|An XLSX file is a file format used for storing spreadsheet data in Excel, containing worksheets, cells, and formulas in a structured manner.|\n",
    "|xml|XML (Extensible Markup Language) is a text-based format for storing and structuring data using tags, often used for data interchange and configuration files.|"
   ]
  }
 ],
 "metadata": {
  "language_info": {
   "name": "python"
  }
 },
 "nbformat": 4,
 "nbformat_minor": 2
}
