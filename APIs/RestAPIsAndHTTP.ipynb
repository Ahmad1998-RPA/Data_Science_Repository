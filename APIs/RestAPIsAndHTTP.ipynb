{
 "cells": [
  {
   "cell_type": "code",
   "execution_count": 7,
   "metadata": {},
   "outputs": [
    {
     "data": {
      "text/plain": [
       "{'User-Agent': 'python-requests/2.31.0', 'Accept-Encoding': 'gzip, deflate', 'Accept': '*/*', 'Connection': 'keep-alive', 'Cookie': '_abck=8E7787F4AAF09F619C9519CB9C166FB7~-1~YAAQmugyF081c82QAQAAHkfb1AxygnJscU3kRfgYNbCSohtb+fslWsuv6ti2xvp8YWQ2ksVqhmqBsmjjtmOI+pMs+QL2vbSVdDV++nuH2WOST2/P5/sUENF541izuS/EBbiBnPwl9apDymYKPC4ZagYCQt5iMpU4fXCn+dYInAug5vp/Nvk1NJ1QBNXjF8GwI3qHmqy776gtNqwxE6Dskrn/eZKIiQlE7KmsNCU6nbtEYgQr6TkPNlKBbhpka3xgUukId8XlHWJ5ZWxxckTveCkt6cx1b2gJQJdiPy615yNbOogKh2EbGu3/X5kmefucm6qxsuHiIlWxVd77dFx74AvBO0q11SAcI2M84i4PPZa/0w6zUlU=~-1~-1~-1; bm_sz=3338457D36304F69CEFBAA1917286AB2~YAAQmugyF1A1c82QAQAAHkfb1BhvohDDdhk8sp6ETnzp151EFEsbec1Lrczsm+ZUy7vzWvEh6NnfzEQXAw+gLZiwpv7qccix64cFf/PhKSzS0SOZAY1uW7c1r2SpMtWHjrw2Bt5VwbT3F7q692XrVFuQt+T8n9HdMd1EFCHAM3cuTjOBegBHNb/hNLk0vcgQGEifDTxkulJz6Pq5N1riNoIn1FdUuNNMM7ohn5AsDWEOnT3sWQxaRlbuEsn2KxtC9aGnw6xlwQ5pp9jCJZwCUGg+ENL5n+Na0NxTt6Rv2vENb52N+a4nJWchMZpvfTudcM7dWBXBE/DpP4wLOiVP8C+93HUvQMsakQ==~4539958~4604212'}"
      ]
     },
     "execution_count": 7,
     "metadata": {},
     "output_type": "execute_result"
    }
   ],
   "source": [
    "import requests\n",
    "url = 'https://www.ibm.com/'\n",
    "r = requests.get(url)\n",
    "r.status_code # To get the request code.\n",
    "r.request.headers # To get the header of the response."
   ]
  },
  {
   "cell_type": "code",
   "execution_count": 4,
   "metadata": {},
   "outputs": [
    {
     "data": {
      "text/plain": [
       "{'User-Agent': 'python-requests/2.31.0', 'Accept-Encoding': 'gzip, deflate', 'Accept': '*/*', 'Connection': 'keep-alive', 'Cookie': '_abck=EF01A515738F1EDC8F9F9BC0AE70145E~-1~YAAQmugyF870cs2QAQAAKa3W1AyXdx9J4c1PP31hb7DQMROQ1MDsI6t5QJQmb2RwFobZ7KyQ0IGS82XVz9CAx29DgS6RkCxICi83omeasyx2bh3mCA90uu0TPF3JhB8h82n+olCb8WoRZE4mNUkghr1N+MHoWAzK8HOH081QBACJwTTfcciEES7zzoOOCpFpld//lyw1dCC7pFP11Sn95BYeqCfMRtZh8ut4KUbZq39ZOhm2zlbaEHSsJfDIV1feC33I08EJQBZPxAVBPCK7b5ip37heuTu8g0Js05bAA1zbf+kTJhgO7fVn2Boks4O5QbgOxG5vOMupz+1/+naTY5x+xKlt4XPb18M8zq8nvvN1rJaTQJ4=~-1~-1~-1; bm_sz=0CA946263342FCAF931A385A09307B83~YAAQmugyF8/0cs2QAQAAKa3W1BjRc4MeTqtJdgxon2mkUtPR12RJTGgUinaPPNP4qSnmOKckXxoJT4qiKbcW+VhzPbELI1Sqi+4Ko8i0+uZqP/7H+L03PTa/Rg+3yLNxDCzSwPTQzI6Y6W9t+aKhGElA2FPlXvzEFzWlnRXe7VsAJyWcxo7UakqcynJMgkCOfDejKMh9e5U+yjpotDLSiOaSsOxZm1igtZ7YtAmg2SJQzE15t7XrD3zVdUk+rtak1Kd2VDj4saOSr3/UGmdljEmYbIMlGPaZ9Q9rimSnk+mKABOhdzKAKj9/Uhn4dHrw1h0wkabC3avqC6EvHjzDmErKAsnjFSUkIg==~3682869~3356482'}"
      ]
     },
     "execution_count": 4,
     "metadata": {},
     "output_type": "execute_result"
    }
   ],
   "source": [
    "r.request.body # to check the request body.\n",
    "header = r.request.headers\n",
    "header"
   ]
  },
  {
   "cell_type": "code",
   "execution_count": 8,
   "metadata": {},
   "outputs": [
    {
     "data": {
      "text/plain": [
       "'utf-8'"
      ]
     },
     "execution_count": 8,
     "metadata": {},
     "output_type": "execute_result"
    }
   ],
   "source": [
    "r.encoding"
   ]
  },
  {
   "cell_type": "code",
   "execution_count": 9,
   "metadata": {},
   "outputs": [
    {
     "data": {
      "text/plain": [
       "'\\n<!DOCTYPE HTML>\\n<html lang=\"en-us\">\\n<head>\\r\\n    \\r\\n    \\r\\n    \\r\\n    \\r\\n    \\r\\n    \\r\\n    \\r\\n    <meta cha'"
      ]
     },
     "execution_count": 9,
     "metadata": {},
     "output_type": "execute_result"
    }
   ],
   "source": [
    "r.text[0:100]"
   ]
  }
 ],
 "metadata": {
  "kernelspec": {
   "display_name": "Python 3",
   "language": "python",
   "name": "python3"
  },
  "language_info": {
   "codemirror_mode": {
    "name": "ipython",
    "version": 3
   },
   "file_extension": ".py",
   "mimetype": "text/x-python",
   "name": "python",
   "nbconvert_exporter": "python",
   "pygments_lexer": "ipython3",
   "version": "3.12.0"
  }
 },
 "nbformat": 4,
 "nbformat_minor": 2
}
