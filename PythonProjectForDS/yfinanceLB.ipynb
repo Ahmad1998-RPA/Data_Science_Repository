{
 "cells": [
  {
   "cell_type": "markdown",
   "metadata": {},
   "source": [
    "# The yfinance Python library\n",
    "The `yfinance` is a Python library with a user-friendly interface for downloading historical market data from Yahoo Finance. It lets you get historical stock prices, dividends, and other financial data for stocks, exchange-traded funds (ETFs), and other securities.\n",
    "\n",
    "This example shows code for using `yfinance` to download historical stock prices."
   ]
  },
  {
   "cell_type": "code",
   "execution_count": 1,
   "metadata": {},
   "outputs": [
    {
     "data": {
      "text/html": [
       "<div>\n",
       "<style scoped>\n",
       "    .dataframe tbody tr th:only-of-type {\n",
       "        vertical-align: middle;\n",
       "    }\n",
       "\n",
       "    .dataframe tbody tr th {\n",
       "        vertical-align: top;\n",
       "    }\n",
       "\n",
       "    .dataframe thead th {\n",
       "        text-align: right;\n",
       "    }\n",
       "</style>\n",
       "<table border=\"1\" class=\"dataframe\">\n",
       "  <thead>\n",
       "    <tr style=\"text-align: right;\">\n",
       "      <th></th>\n",
       "      <th>Open</th>\n",
       "      <th>High</th>\n",
       "      <th>Low</th>\n",
       "      <th>Close</th>\n",
       "      <th>Volume</th>\n",
       "      <th>Dividends</th>\n",
       "      <th>Stock Splits</th>\n",
       "    </tr>\n",
       "    <tr>\n",
       "      <th>Date</th>\n",
       "      <th></th>\n",
       "      <th></th>\n",
       "      <th></th>\n",
       "      <th></th>\n",
       "      <th></th>\n",
       "      <th></th>\n",
       "      <th></th>\n",
       "    </tr>\n",
       "  </thead>\n",
       "  <tbody>\n",
       "    <tr>\n",
       "      <th>1986-03-13 00:00:00-05:00</th>\n",
       "      <td>0.054693</td>\n",
       "      <td>0.062736</td>\n",
       "      <td>0.054693</td>\n",
       "      <td>0.060055</td>\n",
       "      <td>1031788800</td>\n",
       "      <td>0.0</td>\n",
       "      <td>0.0</td>\n",
       "    </tr>\n",
       "    <tr>\n",
       "      <th>1986-03-14 00:00:00-05:00</th>\n",
       "      <td>0.060055</td>\n",
       "      <td>0.063272</td>\n",
       "      <td>0.060055</td>\n",
       "      <td>0.062199</td>\n",
       "      <td>308160000</td>\n",
       "      <td>0.0</td>\n",
       "      <td>0.0</td>\n",
       "    </tr>\n",
       "    <tr>\n",
       "      <th>1986-03-17 00:00:00-05:00</th>\n",
       "      <td>0.062199</td>\n",
       "      <td>0.063808</td>\n",
       "      <td>0.062199</td>\n",
       "      <td>0.063272</td>\n",
       "      <td>133171200</td>\n",
       "      <td>0.0</td>\n",
       "      <td>0.0</td>\n",
       "    </tr>\n",
       "    <tr>\n",
       "      <th>1986-03-18 00:00:00-05:00</th>\n",
       "      <td>0.063272</td>\n",
       "      <td>0.063808</td>\n",
       "      <td>0.061127</td>\n",
       "      <td>0.061663</td>\n",
       "      <td>67766400</td>\n",
       "      <td>0.0</td>\n",
       "      <td>0.0</td>\n",
       "    </tr>\n",
       "    <tr>\n",
       "      <th>1986-03-19 00:00:00-05:00</th>\n",
       "      <td>0.061663</td>\n",
       "      <td>0.062199</td>\n",
       "      <td>0.060055</td>\n",
       "      <td>0.060591</td>\n",
       "      <td>47894400</td>\n",
       "      <td>0.0</td>\n",
       "      <td>0.0</td>\n",
       "    </tr>\n",
       "  </tbody>\n",
       "</table>\n",
       "</div>"
      ],
      "text/plain": [
       "                               Open      High       Low     Close      Volume  \\\n",
       "Date                                                                            \n",
       "1986-03-13 00:00:00-05:00  0.054693  0.062736  0.054693  0.060055  1031788800   \n",
       "1986-03-14 00:00:00-05:00  0.060055  0.063272  0.060055  0.062199   308160000   \n",
       "1986-03-17 00:00:00-05:00  0.062199  0.063808  0.062199  0.063272   133171200   \n",
       "1986-03-18 00:00:00-05:00  0.063272  0.063808  0.061127  0.061663    67766400   \n",
       "1986-03-19 00:00:00-05:00  0.061663  0.062199  0.060055  0.060591    47894400   \n",
       "\n",
       "                           Dividends  Stock Splits  \n",
       "Date                                                \n",
       "1986-03-13 00:00:00-05:00        0.0           0.0  \n",
       "1986-03-14 00:00:00-05:00        0.0           0.0  \n",
       "1986-03-17 00:00:00-05:00        0.0           0.0  \n",
       "1986-03-18 00:00:00-05:00        0.0           0.0  \n",
       "1986-03-19 00:00:00-05:00        0.0           0.0  "
      ]
     },
     "execution_count": 1,
     "metadata": {},
     "output_type": "execute_result"
    }
   ],
   "source": [
    "import yfinance as yf\n",
    "\n",
    "# Download historical data for a stock\n",
    "msft = yf.Ticker(\"MSFT\")\n",
    "msft_data = msft.history(period=\"max\")\n",
    "\n",
    "# Display the downloaded data\n",
    "msft_data.head()"
   ]
  },
  {
   "attachments": {
    "image.png": {
     "image/png": "[encoded data removed]"
    }
   },
   "cell_type": "markdown",
   "metadata": {},
   "source": [
    "#### Explanation for the above code:\n",
    "- First, import the yfinance library using the alias yf.\n",
    "- Then, create a Ticker object for the Microsoft stock (“MSFT”).\n",
    "- Use the history method of the Ticker object to download the historical data for the stock. The period parameter of the history method\n",
    "- specifies when you want to download the data. In this example, it is set to max to download the maximum available historical data.\n",
    "Here are some of the possible values for the period parameter and what they represent:\n",
    "- period=\"1d\": Download 1 day of historical data.\n",
    "- period=\"5d\": Download 5 days of historical data.\n",
    "- period=\"1mo\": Download 1 month of historical data.\n",
    "- period=\"3mo\": Download 3 months of historical data.\n",
    "- period=\"6mo\": Download 6 months of historical data.\n",
    "- period=\"1y\": Download 1 year of historical data.\n",
    "- period=\"2y\": Download 2 years of historical data.\n",
    "- period=\"5y\": Download 5 years of historical data.\n",
    "- period=\"10y\": Download 10 years of historical data.\n",
    "- period=\"ytd\": Download historical data since the beginning of the current year.\n",
    "- period=\"max\": Download all available historical data.\n",
    "Finally, you print the downloaded data using the `head` function. This downloaded data will display a Pandas data frame containing Microsoft's historical stock prices and other financial data.\n",
    "\n",
    "![image.png](attachment:image.png)"
   ]
  },
  {
   "cell_type": "markdown",
   "metadata": {},
   "source": [
    "#### Author\n",
    "[Ahmad Mubarak](https://www.linkedin.com/in/ahmad-mubarak-19861a177/)"
   ]
  }
 ],
 "metadata": {
  "kernelspec": {
   "display_name": "Python 3",
   "language": "python",
   "name": "python3"
  },
  "language_info": {
   "codemirror_mode": {
    "name": "ipython",
    "version": 3
   },
   "file_extension": ".py",
   "mimetype": "text/x-python",
   "name": "python",
   "nbconvert_exporter": "python",
   "pygments_lexer": "ipython3",
   "version": "3.12.0"
  }
 },
 "nbformat": 4,
 "nbformat_minor": 2
}
