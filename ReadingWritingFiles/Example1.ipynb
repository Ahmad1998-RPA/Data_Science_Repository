{
 "cells": [
  {
   "cell_type": "code",
   "execution_count": 2,
   "metadata": {},
   "outputs": [
    {
     "name": "stdout",
     "output_type": "stream",
     "text": [
      "Processed with RPA to identify the processes that are ripe for automation\n",
      "Worked on UiPath/Blue Prism/Automation Anywhere - end-to-end design, development and deployment of RPA bots\n",
      "Designed flowcharts illustrating how to automate streams.\n",
      "Tested RPA bots extensively for performance and exception handling.\n",
      "Monitored, maintained and updated deployed bots to ensure running without stopping.\n",
      "Ensured detailed process designs, configurations and changes are documented for compliance purposes and future reference.\n",
      "Worked with business analysts, process owners and IT teams to facilitated the collection of requirements for successful implementation.\n",
      "True\n",
      "Processed with RPA to identify the processes that are ripe for automation\n",
      "Worked on UiPath/Blue Prism/Automation Anywhere - end-to-end design, development and deployment of RPA bots\n",
      "Designed flowcharts illustrating how to automate streams.\n",
      "Tested RPA bots extensively for performance and exception handling.\n",
      "Monitored, maintained and updated deployed bots to ensure running without stopping.\n",
      "Ensured detailed process designs, configurations and changes are documented for compliance purposes and future reference.\n",
      "Worked with business analysts, process owners and IT teams to facilitated the collection of requirements for successful implementation.\n"
     ]
    }
   ],
   "source": [
    "with open(\"Example1.txt\",\"r\") as file:\n",
    "    data = file.read()\n",
    "    print(data)\n",
    "\n",
    "print(file.closed)\n",
    "print(data)"
   ]
  },
  {
   "cell_type": "code",
   "execution_count": 16,
   "metadata": {},
   "outputs": [
    {
     "name": "stdout",
     "output_type": "stream",
     "text": [
      "Processed with RPA to identify the processes that are ripe for automation.\n",
      "\n",
      "True\n",
      "Processed with RPA to identify the processes that are ripe for automation.\n",
      "\n"
     ]
    }
   ],
   "source": [
    "with open(\"Example1.txt\",\"r\") as file:\n",
    "    data = file.readline()\n",
    "    print(data)\n",
    "    # data = file.readline()\n",
    "    # print(data)\n",
    "    # data = file.readline()\n",
    "    # print(data)\n",
    "    # data = file.readline()\n",
    "    # print(data)\n",
    "    # data = file.readline()\n",
    "    # print(data)\n",
    "    # data = file.readline()\n",
    "    # print(data)\n",
    "\n",
    "print(file.closed)\n",
    "print(data)"
   ]
  },
  {
   "cell_type": "code",
   "execution_count": 17,
   "metadata": {},
   "outputs": [
    {
     "name": "stdout",
     "output_type": "stream",
     "text": [
      "Processed with RPA to identify the processes that are ripe for automation.\n",
      "\n",
      "Worked on UiPath/Blue Prism/Automation Anywhere - end-to-end design, development and deployment of RPA bots.\n",
      "\n",
      "Designed flowcharts illustrating how to automate streams.\n",
      "\n",
      "Tested RPA bots extensively for performance and exception handling.\n",
      "\n",
      "Monitored, maintained and updated deployed bots to ensure running without stopping.\n",
      "\n",
      "Ensured detailed process designs, configurations and changes are documented for compliance purposes and future reference.\n",
      "\n",
      "Worked with business analysts, process owners and IT teams to facilitated the collection of requirements for successful implementation.\n"
     ]
    }
   ],
   "source": [
    "with open(\"Example1.txt\",\"r\") as file:\n",
    "    for line in file:\n",
    "        print(line)"
   ]
  }
 ],
 "metadata": {
  "kernelspec": {
   "display_name": "Python 3",
   "language": "python",
   "name": "python3"
  },
  "language_info": {
   "codemirror_mode": {
    "name": "ipython",
    "version": 3
   },
   "file_extension": ".py",
   "mimetype": "text/x-python",
   "name": "python",
   "nbconvert_exporter": "python",
   "pygments_lexer": "ipython3",
   "version": "3.12.0"
  }
 },
 "nbformat": 4,
 "nbformat_minor": 2
}
