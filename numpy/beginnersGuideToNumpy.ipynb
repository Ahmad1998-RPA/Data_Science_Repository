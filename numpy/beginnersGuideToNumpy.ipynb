{
 "cells": [
  {
   "cell_type": "markdown",
   "metadata": {},
   "source": [
    "# Beginner's Guide to NumPy\n",
    "## Objective:\n",
    "In this reading, you'll learn:\n",
    "\n",
    "- Basics of NumPy\n",
    "- How to create NumPy arrays\n",
    "- Array attributes and indexing\n",
    "- Basic operations like addition and multiplication\n",
    "## What is NumPy?\n",
    "NumPy, short for Numerical Python, is a fundamental library for numerical and scientific computing in Python. It provides support for large, multi-dimensional arrays and matrices, along with a collection of high-level mathematical functions to operate on these arrays. NumPy serves as the foundation for many data science and machine learning libraries, making it an essential tool for data analysis and scientific research in Python.\n",
    "\n",
    "### Key aspects of NumPy in Python:\n",
    "- **Efficient data structures:** NumPy introduces efficient array structures, which are faster and more memory-efficient than Python lists. This is crucial for handling large data sets.\n",
    "- **Multi-dimensional arrays:** NumPy allows you to work with multi-dimensional arrays, enabling the representation of matrices and tensors. This is particularly useful in scientific computing.\n",
    "- **Element-wise operations:** NumPy simplifies element-wise mathematical operations on arrays, making it easy to perform calculations on entire data sets in one go.\n",
    "- **Random number generation:** It provides a wide range of functions for generating random numbers and random data, which is useful for simulations and statistical analysis.\n",
    "- **Integration with other libraries:** NumPy seamlessly integrates with other data science libraries like SciPy, Pandas, and Matplotlib, enhancing its utility in various domains.\n",
    "- **Performance optimization:** NumPy functions are implemented in low-level languages like C and Fortran, which significantly boosts their performance. It's a go-to choice when speed is essential.\n",
    "## Installation\n",
    "If you haven't already installed NumPy, you can do so using `pip`:"
   ]
  },
  {
   "cell_type": "code",
   "execution_count": null,
   "metadata": {},
   "outputs": [],
   "source": [
    "pip install numpy"
   ]
  },
  {
   "cell_type": "markdown",
   "metadata": {},
   "source": [
    "## Creating NumPy arrays\n",
    "You can create NumPy arrays from Python lists. These arrays can be one-dimensional or multi-dimensional.\n",
    "\n",
    "### Creating 1D array"
   ]
  },
  {
   "cell_type": "code",
   "execution_count": null,
   "metadata": {},
   "outputs": [],
   "source": [
    "import numpy as np"
   ]
  },
  {
   "cell_type": "markdown",
   "metadata": {},
   "source": [
    "**import numpy as np:** In this line, the NumPy library is imported and assigned an alias `np` to make it easier to reference in the code."
   ]
  },
  {
   "cell_type": "code",
   "execution_count": null,
   "metadata": {},
   "outputs": [],
   "source": [
    "# Creating a 1D array\n",
    "arr_1d = np.array([1, 2, 3, 4, 5]) # **np.array()** is used to create NumPy arrays."
   ]
  },
  {
   "cell_type": "markdown",
   "metadata": {},
   "source": [
    "**arr_1d = np.array([1, 2, 3, 4, 5]):** In this line, a one-dimensional NumPy array named `arr_1d` is created. It uses the `np.array()` function to convert a Python list [1, 2, 3, 4, 5] into a NumPy array. This array contains five elements, which are 1, 2, 3, 4, and 5. `arr_1d` is a 1D array because it has a single row of elements.\n",
    "### Creating 2D array"
   ]
  },
  {
   "cell_type": "code",
   "execution_count": null,
   "metadata": {},
   "outputs": [],
   "source": [
    "import numpy as np"
   ]
  },
  {
   "cell_type": "markdown",
   "metadata": {},
   "source": [
    "**import numpy as np**: In this line, the NumPy library is imported and assigned an alias `np` to make it easier to reference in the code."
   ]
  },
  {
   "cell_type": "code",
   "execution_count": null,
   "metadata": {},
   "outputs": [],
   "source": [
    "# Creating a 2D array\n",
    "arr_2d = np.array([[1, 2, 3], [4, 5, 6], [7, 8, 9]])"
   ]
  },
  {
   "cell_type": "markdown",
   "metadata": {},
   "source": [
    "**arr_2d = np.array([[1, 2, 3], [4, 5, 6], [7, 8, 9]])**: In this line, a two-dimensional NumPy array named `arr_2d` is created. It uses the `np.array()` function to convert a list of lists into a 2D NumPy array.\n",
    "The outer list contains three inner lists, each of which represents a row of elements. So, `arr_2d` is a 2D array with three rows and three columns. The elements in this array form a matrix with values from 1 to 9, organized in a 3x3 grid.\n",
    "### Array attributes\n",
    "NumPy arrays have several useful attributes:"
   ]
  },
  {
   "cell_type": "code",
   "execution_count": null,
   "metadata": {},
   "outputs": [],
   "source": [
    "# Array attributes\n",
    "print(arr_2d.ndim)  # ndim : Represents the number of dimensions or \"rank\" of the array.\n",
    "# output : 2\n",
    "print(arr_2d.shape)  # shape : Returns a tuple indicating the number of rows and columns in the array.\n",
    "# Output : (3, 3)\n",
    "print(arr_2d.size) # size: Provides the total number of elements in the array.\n",
    "# Output : 9"
   ]
  },
  {
   "cell_type": "markdown",
   "metadata": {},
   "source": [
    "### Indexing and slicing\n",
    "You can access elements of a NumPy array using indexing and slicing:\n",
    "\n",
    "In this line, the third element (index 2) of the 1D array `arr_1d` is accessed."
   ]
  },
  {
   "cell_type": "code",
   "execution_count": null,
   "metadata": {},
   "outputs": [],
   "source": [
    "# Indexing and slicing\n",
    "print(arr_1d[2])          # Accessing an element (3rd element)"
   ]
  },
  {
   "cell_type": "markdown",
   "metadata": {},
   "source": [
    "In this line, the element in the 2nd row (index 1) and 3rd column (index 2) of the 2D array `arr_2d` is accessed."
   ]
  },
  {
   "cell_type": "code",
   "execution_count": null,
   "metadata": {},
   "outputs": [],
   "source": [
    "print(arr_2d[1, 2])       # Accessing an element (2nd row, 3rd column)"
   ]
  },
  {
   "cell_type": "markdown",
   "metadata": {},
   "source": [
    "In this line, the 2nd row (index 1) of the 2D array `arr_2d` is accessed."
   ]
  },
  {
   "cell_type": "code",
   "execution_count": null,
   "metadata": {},
   "outputs": [],
   "source": [
    "print(arr_2d[1])          # Accessing a row (2nd row)"
   ]
  },
  {
   "cell_type": "markdown",
   "metadata": {},
   "source": [
    "In this line, the 2nd column (index 1) of the 2D array `arr_2d` is accessed."
   ]
  },
  {
   "cell_type": "code",
   "execution_count": null,
   "metadata": {},
   "outputs": [],
   "source": [
    "print(arr_2d[:, 1])       # Accessing a column (2nd column)"
   ]
  },
  {
   "cell_type": "markdown",
   "metadata": {},
   "source": [
    "### Basic operations\n",
    "NumPy simplifies basic operations on arrays:\n",
    "\n",
    "### Element-wise arithmetic operations:\n",
    "Addition, subtraction, multiplication, and division of arrays with scalars or other arrays.\n",
    "\n",
    "#### Array addition"
   ]
  },
  {
   "cell_type": "code",
   "execution_count": null,
   "metadata": {},
   "outputs": [],
   "source": [
    "# Array addition\n",
    "array1 = np.array([1, 2, 3])\n",
    "array2 = np.array([4, 5, 6])\n",
    "result = array1 + array2\n",
    "print(result)  # [5 7 9]"
   ]
  },
  {
   "cell_type": "markdown",
   "metadata": {},
   "source": [
    "#### Scalar multiplication"
   ]
  },
  {
   "cell_type": "code",
   "execution_count": null,
   "metadata": {},
   "outputs": [],
   "source": [
    "# Scalar multiplication\n",
    "array = np.array([1, 2, 3])\n",
    "result = array * 2 # each element of an array is multiplied by 2\n",
    "print(result)  # [2 4 6]"
   ]
  },
  {
   "cell_type": "markdown",
   "metadata": {},
   "source": [
    "#### Element-wise multiplication (Hadamard Product)"
   ]
  },
  {
   "cell_type": "code",
   "execution_count": null,
   "metadata": {},
   "outputs": [],
   "source": [
    "# Element-wise multiplication (Hadamard product)\n",
    "array1 = np.array([1, 2, 3])\n",
    "array2 = np.array([4, 5, 6])\n",
    "result = array1 * array2\n",
    "print(result)  # [4 10 18]"
   ]
  },
  {
   "cell_type": "markdown",
   "metadata": {},
   "source": [
    "#### Matrix multiplication"
   ]
  },
  {
   "cell_type": "code",
   "execution_count": null,
   "metadata": {},
   "outputs": [],
   "source": [
    "# Matrix multiplication\n",
    "matrix1 = np.array([[1, 2], [3, 4]])\n",
    "matrix2 = np.array([[5, 6], [7, 8]])\n",
    "result = np.dot(matrix1, matrix2)\n",
    "print(result)\n",
    "# [[19 22]\n",
    "#  [43 50]]"
   ]
  },
  {
   "cell_type": "markdown",
   "metadata": {},
   "source": [
    "NumPy simplifies these operations, making it easier and more efficient than traditional Python lists.\n",
    "\n",
    "## Operation with NumPy\n",
    "Here's the list of operation which can be performed using Numpy\n",
    "\n",
    "|Operation|Description|Example|\n",
    "|---------|-----------|-------|\n",
    "|Array Creation|Creating a NumPy array.|`arr = np.array([1, 2, 3, 4, 5])`|\n",
    "|Element-Wise Arithmetic|Element-wise addition, subtraction, and so on.|`result = arr1 + arr2`|\n",
    "|Scalar Arithmetic|Scalar addition, subtraction, and so on.|`result = arr * 2`|\n",
    "|Element-Wise Functions|Applying functions to each element.|`result = np.sqrt(arr)`|\n",
    "|Sum and Mean|Calculating the sum and mean of an array.Calculating the sum and mean of an array.|`total = np.sum(arr)<br>average = np.mean(arr)`|\n",
    "|Maximum and Minimum Values|Finding the maximum and minimum values.|`max_val = np.max(arr)<br>min_val = np.min(arr)`|\n",
    "|Reshaping|Changing the shape of an array.|`reshaped_arr = arr.reshape(2, 3)`|\n",
    "|Transposition|Transposing a multi-dimensional array.|`transposed_arr = arr.T`|\n",
    "|Matrix Multiplication|Performing matrix multiplication.|`result = np.dot(matrix1, matrix2)`|"
   ]
  }
 ],
 "metadata": {
  "kernelspec": {
   "display_name": "Python 3",
   "language": "python",
   "name": "python3"
  },
  "language_info": {
   "name": "python",
   "version": "3.12.0"
  }
 },
 "nbformat": 4,
 "nbformat_minor": 2
}
