{
 "cells": [
  {
   "cell_type": "markdown",
   "metadata": {},
   "source": [
    "# Introduction to Pandas for Data Analysis\n",
    "\n",
    "#### Objective:\n",
    "1. Learn what Pandas Series are and how to create them.\n",
    "2. Understand how to access and manipulate data within a Series.\n",
    "3. Discover the basics of creating and working with Pandas DataFrames.\n",
    "4. Learn how to access, modify, and analyze data in DataFrames.\n",
    "5. Gain insights into common DataFrame attributes and methods.\n",
    "#### What is Pandas?\n",
    "Pandas is a popular open-source data manipulation and analysis library for the Python programming language. It provides a powerful and flexible set of tools for working with structured data, making it a fundamental tool for data scientists, analysts, and engineers.\n",
    "Pandas is designed to handle data in various formats, such as tabular data, time series data, and more, making it an essential part of the data processing workflow in many industries.\n",
    "\n",
    "Here are some **key features and functionalities of Pandas:**\n",
    "\n",
    "**Data Structures:** Pandas offers two primary data structures - DataFrame and Series.\n",
    "1. A DataFrame is a two-dimensional, size-mutable, and potentially heterogeneous tabular data structure with labeled axes (rows and columns).\n",
    "2. A Series is a one-dimensional labeled array, essentially a single column or row of data.\n",
    "\n",
    "**Data Import and Export:** Pandas makes it easy to read data from various sources, including CSV files, Excel spreadsheets, SQL databases, and more. It can also export data to these formats, enabling seamless data exchange.<br>**Data Merging and Joining:** You can combine multiple DataFrames using methods like merge and join, similar to SQL operations, to create more complex datasets from different sources.<br>**Efficient Indexing:** Pandas provides efficient indexing and selection methods, allowing you to access specific rows and columns of data quickly.<br>**Custom Data Structures:** You can create custom data structures and manipulate data in ways that suit your specific needs, extending Pandas' capabilities."
   ]
  },
  {
   "cell_type": "markdown",
   "metadata": {},
   "source": [
    "#### Importing Pandas:\n",
    "Import Pandas using the import command, followed by the library's name.<br>\n",
    "Commonly, Pandas is imported as pd for brevity in code."
   ]
  },
  {
   "cell_type": "code",
   "execution_count": null,
   "metadata": {},
   "outputs": [],
   "source": [
    "import pandas as pd"
   ]
  },
  {
   "cell_type": "markdown",
   "metadata": {},
   "source": [
    "#### Data Loading:\n",
    "1. Pandas can be used to load data from various sources, such as CSV and Excel files.\n",
    "2. The read_csv function is used to load data from a CSV file into a Pandas DataFrame.\n",
    "\n",
    "To read a CSV (Comma-Separated Values) file in Python using the Pandas library, you can use the pd.read_csv() function. Here's the syntax to read a CSV file:"
   ]
  },
  {
   "cell_type": "code",
   "execution_count": null,
   "metadata": {},
   "outputs": [],
   "source": [
    "import pandas as pd\n",
    "\n",
    "# Read the CSV file into a DataFrame\n",
    "df = pd.read_csv('your_file.csv')"
   ]
  },
  {
   "cell_type": "markdown",
   "metadata": {},
   "source": [
    "Replace 'your_file.csv' with the actual file path of your CSV file. Make sure that the file is located in the same directory as your Python script, or you provide the correct file path."
   ]
  },
  {
   "cell_type": "markdown",
   "metadata": {},
   "source": [
    "#### What is a Series?\n",
    "A Series is a one-dimensional labeled array in Pandas. It can be thought of as a single column of data with labels or indices for each element. You can create a Series from various data sources, such as lists, NumPy arrays, or dictionaries.<br>\n",
    "Here's a basic example of creating a Series in Pandas:"
   ]
  },
  {
   "cell_type": "code",
   "execution_count": null,
   "metadata": {},
   "outputs": [],
   "source": [
    "import pandas as pd\n",
    "\n",
    "# Create a Series from a list\n",
    "data = [10, 20, 30, 40, 50]\n",
    "s = pd.Series(data)\n",
    "\n",
    "print(s)"
   ]
  },
  {
   "cell_type": "markdown",
   "metadata": {},
   "source": [
    "In this example, we've created a Series named s with numeric data. Notice that Pandas automatically assigned numerical indices (0, 1, 2, 3, 4) to each element, but you can also specify custom labels if needed.\n",
    "\n",
    "#### **Accessing Elements in a Series**\n",
    "You can access elements in a Series using the index labels or integer positions. Here are a few common methods for accessing Series data:\n",
    "\n",
    "##### **Accessing by label**"
   ]
  },
  {
   "cell_type": "code",
   "execution_count": null,
   "metadata": {},
   "outputs": [],
   "source": [
    "print(s[2])     # Access the element with label 2 (value 30)"
   ]
  },
  {
   "cell_type": "markdown",
   "metadata": {},
   "source": [
    "**Accessing by position**"
   ]
  },
  {
   "cell_type": "code",
   "execution_count": null,
   "metadata": {},
   "outputs": [],
   "source": [
    "print(s.iloc[3]) # Access the element at position 3 (value 40)"
   ]
  },
  {
   "cell_type": "markdown",
   "metadata": {},
   "source": [
    "**Accessing multiple elements**"
   ]
  },
  {
   "cell_type": "code",
   "execution_count": null,
   "metadata": {},
   "outputs": [],
   "source": [
    "print(s[1:4])   # Access a range of elements by label"
   ]
  },
  {
   "cell_type": "markdown",
   "metadata": {},
   "source": [
    "#### Series Attributes and Methods\n",
    "Pandas Series come with various attributes and methods to help you manipulate and analyze data effectively. Here are a few essential ones:\n",
    "\n",
    "1. **values:** Returns the Series data as a NumPy array.\n",
    "2. **index:** Returns the index (labels) of the Series.\n",
    "3. **shape:** Returns a tuple representing the dimensions of the Series.\n",
    "4. **size:** Returns the number of elements in the Series.\n",
    "5. **mean(), sum(), min(), max():** Calculate summary statistics of the data.\n",
    "6. **unique(), nunique():** Get unique values or the number of unique values.\n",
    "7. **sort_values(), sort_index():** Sort the Series by values or index labels.\n",
    "8. **isnull(), notnull():** Check for missing (NaN) or non-missing values.\n",
    "9. **apply():** Apply a custom function to each element of the Series.\n",
    "#### What is a DataFrames?\n",
    "A DataFrame is a two-dimensional labeled data structure with columns of potentially different data types. Think of it as a table where each column represents a variable, and each row represents an observation or data point. DataFrames are suitable for a wide range of data, including structured data from CSV files, Excel spreadsheets, SQL databases, and more.\n",
    "\n",
    "#### Creating DataFrames from Dictionaries:\n",
    "DataFrames can be created from dictionaries, with keys as column labels and values as lists representing rows."
   ]
  },
  {
   "cell_type": "code",
   "execution_count": null,
   "metadata": {},
   "outputs": [],
   "source": [
    "import pandas as pd\n",
    "\n",
    "# Creating a DataFrame from a dictionary\n",
    "data = {'Name': ['Alice', 'Bob', 'Charlie', 'David'],\n",
    "        'Age': [25, 30, 35, 28],\n",
    "        'City': ['New York', 'San Francisco', 'Los Angeles', 'Chicago']}\n",
    "\n",
    "df = pd.DataFrame(data)\n",
    "\n",
    "print(df)\n"
   ]
  },
  {
   "cell_type": "markdown",
   "metadata": {},
   "source": [
    "#### **Column Selection:**\n",
    "You can select a single column from a DataFrame by specifying the column name within double brackets.\n",
    "Multiple columns can be selected in a similar manner, creating a new DataFrame."
   ]
  },
  {
   "cell_type": "code",
   "execution_count": null,
   "metadata": {},
   "outputs": [],
   "source": [
    "print(df['Name'])  # Access the 'Name' column"
   ]
  },
  {
   "cell_type": "markdown",
   "metadata": {},
   "source": [
    "#### Accessing Rows:\n",
    "You can access rows by their index using .iloc[] or by label using .loc[]."
   ]
  },
  {
   "cell_type": "code",
   "execution_count": null,
   "metadata": {},
   "outputs": [],
   "source": [
    "print(df.iloc[2])   # Access the third row by position\n",
    "print(df.loc[1])    # Access the second row by label"
   ]
  },
  {
   "cell_type": "markdown",
   "metadata": {},
   "source": [
    "#### **Slicing:**\n",
    "You can slice DataFrames to select specific rows and columns."
   ]
  },
  {
   "cell_type": "code",
   "execution_count": null,
   "metadata": {},
   "outputs": [],
   "source": [
    "print(df[['Name', 'Age']])  # Select specific columns\n",
    "print(df[1:3])             # Select specific rows"
   ]
  },
  {
   "cell_type": "markdown",
   "metadata": {},
   "source": [
    "#### **Finding Unique Elements:**\n",
    "Use the unique method to determine the unique elements in a column of a DataFrame."
   ]
  },
  {
   "cell_type": "code",
   "execution_count": null,
   "metadata": {},
   "outputs": [],
   "source": [
    "unique_dates = df['Age'].unique()"
   ]
  },
  {
   "cell_type": "markdown",
   "metadata": {},
   "source": [
    "#### **Conditional Filtering:**\n",
    "You can filter data in a DataFrame based on conditions using inequality operators.<br>\n",
    "For instance, you can filter albums released after a certain year."
   ]
  },
  {
   "cell_type": "code",
   "execution_count": null,
   "metadata": {},
   "outputs": [],
   "source": [
    "high_above_102 = df[df['Age'] > 25]"
   ]
  },
  {
   "cell_type": "markdown",
   "metadata": {},
   "source": [
    "#### **Saving DataFrames:**\n",
    "To save a DataFrame to a CSV file, use the to_csv method and specify the filename with a “.csv” extension.Pandas provides other functions for saving DataFrames in different formats."
   ]
  },
  {
   "cell_type": "code",
   "execution_count": null,
   "metadata": {},
   "outputs": [],
   "source": [
    "df.to_csv('trading_data.csv', index=False)"
   ]
  },
  {
   "cell_type": "markdown",
   "metadata": {},
   "source": [
    "#### **DataFrame Attributes and Methods**\n",
    "DataFrames provide numerous attributes and methods for data manipulation and analysis, including:\n",
    "\n",
    "1. **shape:** Returns the dimensions (number of rows and columns) of the DataFrame.\n",
    "2. **info():** Provides a summary of the DataFrame, including data types and non-null counts.\n",
    "3. **describe():** Generates summary statistics for numerical columns.\n",
    "4. **head(), tail():** Displays the first or last n rows of the DataFrame.\n",
    "5. **mean(), sum(), min(), max():** Calculate summary statistics for columns.\n",
    "6. **sort_values():** Sort the DataFrame by one or more columns.\n",
    "7. **groupby():** Group data based on specific columns for aggregation.\n",
    "8. **fillna(), drop(), rename():** Handle missing values, drop columns, or rename columns.\n",
    "9. **apply():** Apply a function to each element, row, or column of the DataFrame.<br>\n",
    "\n",
    "*Pandas offers a wide range of methods beyond these examples. For more detailed information, please refer to the official documentation available on the Pandas official website.*\n",
    "\n",
    "#### Conclusion\n",
    "In conclusion, mastering the use of Pandas Series and DataFrames is essential for effective data manipulation and analysis in Python. Series provide a foundation for handling one-dimensional data with labels, while DataFrames offer a versatile, table-like structure for working with two-dimensional data. Whether you're cleaning, exploring, transforming, or analyzing data, these Pandas data structures, along with their attributes and methods, empower you to efficiently and flexibly manipulate data to derive valuable insights. By incorporating Series and DataFrames into your data science toolkit, you'll be well-prepared to tackle a wide range of data-related tasks and enhance your data analysis capabilities.\n",
    "To further your skills in data analysis with Pandas, consider the following next steps:\n",
    "\n",
    "##### Practice:\n",
    "Work with real datasets to apply what you've learned and gain hands-on experience."
   ]
  }
 ],
 "metadata": {
  "kernelspec": {
   "display_name": "Python 3",
   "language": "python",
   "name": "python3"
  },
  "language_info": {
   "codemirror_mode": {
    "name": "ipython",
    "version": 3
   },
   "file_extension": ".py",
   "mimetype": "text/x-python",
   "name": "python",
   "nbconvert_exporter": "python",
   "pygments_lexer": "ipython3",
   "version": "3.12.0"
  }
 },
 "nbformat": 4,
 "nbformat_minor": 2
}
