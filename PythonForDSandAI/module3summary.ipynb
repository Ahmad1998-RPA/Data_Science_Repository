{
 "cells": [
  {
   "cell_type": "markdown",
   "metadata": {},
   "source": [
    "# Module 3 Summary: Python Programming Fundamentals\n",
    "Congratulations! You have completed this module. At this point, you know that: \n",
    "\n",
    "- Python conditions use “if” statements to execute code based on true/false conditions created by comparisons and Boolean expressions.\n",
    "- Comparison operations require using comparison operators equal to \"=\", greater than \">\", less than \"<\".\n",
    "- An exclamation mark \"!\" is used to define inequalities of a variable.\n",
    "- You can compare integers, strings, and floats.\n",
    "- Python branching directs program flow by using conditional statements (for example, if, else, elif) to execute different code blocks based on conditions or tests.\n",
    "- You can use the \"if\" statement with conditions to define actions if true.\n",
    "- To perform actions based on true or false output, you can use the \"else\" statement with conditions.\n",
    "- The elif statement allows for additional checks only if the initial condition is false.\n",
    "- To execute various operations on Boolean values, we use Boolean logic operators.\n",
    "- Python loops are control structures that automate repetitive tasks and iterate over data structures like lists or dictionaries.\n",
    "- The range() function generates a sequence of numbers with a specified start, stop, and step value for loops in Python.\n",
    "- A for loop in Python iterates over a sequence, such as a list, tuple, or string, and executes a block of code for each item in the sequence.\n",
    "- A while loop in Python executes a block of code as long as a specified condition remains true.\n",
    "- Python functions are reusable code blocks that perform specific tasks, take input parameters, and often return results, enhancing code modularity and reusability.\n",
    "- You may or may not have written the codes that are often included in functions.\n",
    "- Python has a set of built-in functions such as \"len\" to find the length of a sequence or \"sum\" to find the total sum of a sequence.\n",
    "- The \"sorted\" function creates a new sorted list, while \"sort\" sorts items in the original list.\n",
    "- You can also create your own functions in Python.\n",
    "- To ensure clarity and organization and facilitate understanding and maintenance of the code, developers must document functions using a documentation string enclosed in three quotes.\n",
    "- The help command will return the documentation defined for a particular function.\n",
    "- A function can have multiple parameters.\n",
    "- “No return” statement in the function means that the function will return nothing.\n",
    "- The \"No work\" function does not execute any task. You can use the \"pass\" keyword to meet the requirement of a non-empty body.\n",
    "- A function will usually perform more than one task.\n",
    "- In Python, the scope of a variable determines where you can access or modify that variable. Global scope allows access from anywhere, while local scope restricts it to a block or function.\n",
    "- In Python, a programmer defines a local variable within a specific block or function, which can only be accessed or modified within that block or function.\n",
    "- In Python, a global variable is a variable defined at the top level of a program that any part of the code can access or modify. \n",
    "- Exception handling in Python is a mechanism for managing and responding to errors and exceptions that may occur during program execution, preventing them from crashing the program.\n",
    "- In Python, you use the \"try-except\" statement to attempt a block of code and specify alternative actions to execute if an error occurs, allowing you to handle exceptions. \n",
    "- In Python, you use the \"try-except-else\" statement to attempt a block of code, handle exceptions in the \"except\" block, and execute code in the \"else\" block when no exceptions occur. \n",
    "- Python developers use the \"try-except-else-finally\" statement to attempt a block of code, catch exceptions in the \"except\" block, execute code in the \"else\" block when no exceptions occur, and ensure that the \"finally\" block always runs, regardless of whether an exception raised or not.\n",
    "- In Python, objects are instances of classes that encapsulate data and behavior, serving as the foundation for creating and working with various data types and custom data structures.\n",
    "- To determine the type of an object in Python, you can use the `type()` command.\n",
    "- Any changes made within the method of the object may result in a change in object type.\n",
    "- Classes in Python are blueprints for creating objects, defining their attributes and methods, enabling code organization, and object-oriented programming.\n",
    "- Function \"init\" is a special method used to initialize data attributes.\n",
    "- We can create instances of a class in Python.\n",
    "- Data attributes consist of the data defining the objects.\n",
    "- Methods are functions that interact and change the data attributes.\n",
    "- The method has a function that requires the self as well as other parameters."
   ]
  }
 ],
 "metadata": {
  "language_info": {
   "name": "python"
  }
 },
 "nbformat": 4,
 "nbformat_minor": 2
}
