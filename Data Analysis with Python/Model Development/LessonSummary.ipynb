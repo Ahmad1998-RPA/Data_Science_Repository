{
 "cells": [
  {
   "cell_type": "markdown",
   "metadata": {},
   "source": [
    "# Lesson Summary\n",
    "Congratulations! You have completed this lesson. At this point in the course, you know: \n",
    "\n",
    "- Linear regression refers to using one independent variable to make a prediction.\n",
    "- You can use multiple linear regression to explain the relationship between one continuous target y variable and two or more predictor x variables.\n",
    "- Simple linear regression, or SLR, is a method used to understand the relationship between two variables, the predictor independent variable x and the target dependent variable y.\n",
    "- Use the regplot and residplot functions in the Seaborn library to create regression and residual plots, which help you identify the strength, direction, and linearity of the relationship between your independent and dependent variables.\n",
    "- When using residual plots for model evaluation, residuals should ideally have zero mean, appear evenly distributed around the x-axis, and have consistent variance. If these conditions are not met, consider adjusting your model.\n",
    "- Use distribution plots for models with multiple features: Learn to construct distribution plots to compare predicted and actual values, particularly when your model includes more than one independent variable. Know that this can offer deeper insights into the accuracy of your model across different ranges of values.\n",
    "- The order of the polynomials affects the fit of the model to your data. Apply Python's polyfit function to develop polynomial regression models that suit your specific dataset.\n",
    "- To prepare your data for more accurate modeling, use feature transformation techniques, particularly using the preprocessing library in scikit-learn, transform your data using polynomial features, and use the modules like StandardScaler to normalize the data.\n",
    "- Pipelines allow you to simplify how you perform transformations and predictions sequentially, and you can use pipelines in scikit-learn to streamline your modeling process.\n",
    "- You can construct and train a pipeline to automate tasks such as normalization, polynomial transformation, and making predictions.\n",
    "- To determine the fit of your model, you can perform sample evaluations by using the Mean Square Error (MSE), using Python’s mean_squared_error function from scikit-learn, and using the score method to obtain the R-squared value.\n",
    "- A model with a high R-squared value close to 1 and a low MSE is generally a good fit, whereas a model with a low R-squared and a high MSE may not be useful.\n",
    "- Be alert to situations where your R-squared value might be negative, which can indicate overfitting. \n",
    "- When evaluating models, use visualization and numerical measures and compare different models.\n",
    "- The mean square error is perhaps the most intuitive numerical measure for determining whether a model is good.\n",
    "- A distribution plot is a suitable method for multiple linear regression.\n",
    "- An acceptable r-squared value depends on what you are studying and your use case.\n",
    "- To evaluate your model’s fit, apply visualization, methods like regression and residual plots, and numerical measures such as the model's coefficients for sensibility: \n",
    "- Use Mean Square Error (MSE) to measure the average of the squares of the errors between actual and predicted values and examine R-squared to understand the proportion of the variance in the dependent variable that is predictable from the independent variables.\n",
    "- When analyzing residual plots, residuals should be randomly distributed around zero for a good model. In contrast, a residual plot curve or inaccuracies in certain ranges suggest non-linear behavior or the need for more data."
   ]
  }
 ],
 "metadata": {
  "language_info": {
   "name": "python"
  }
 },
 "nbformat": 4,
 "nbformat_minor": 2
}
