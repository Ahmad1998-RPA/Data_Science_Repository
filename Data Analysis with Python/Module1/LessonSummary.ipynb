{
 "cells": [
  {
   "cell_type": "markdown",
   "metadata": {},
   "source": [
    "# Lesson Summary\n",
    "Congratulations! You have completed this lesson. At this point in the course, you know: \n",
    "\n",
    "- Each line in a dataset is a row, and commas separate the values.\n",
    "- To understand the data, you must analyze the attributes for each column of data.\n",
    "- Python libraries are collections of functions and methods that facilitate various functionalities without writing code from scratch and are categorized into Scientific Computing, Data Visualization, and Machine Learning Algorithms.\n",
    "- Many data science libraries are interconnected; for instance, Scikit-learn is built on top of NumPy, SciPy, and Matplotlib.\n",
    "- The data format and the file path are two key factors for reading data with Pandas.\n",
    "- The read_CSV method in Pandas can read files in CSV format into a Pandas DataFrame.\n",
    "- Pandas has unique data types like object, float, Int, and datetime.\n",
    "- Use the dtype method to check each column’s data type; misclassified data types might need manual correction.\n",
    "- Knowing the correct data types helps apply appropriate Python functions to specific columns.\n",
    "- Using Statistical Summary with describe() provides count, mean, standard deviation, min, max, and quartile ranges for numerical columns.\n",
    "- You can also use include='all' as an argument to get summaries for object-type columns.\n",
    "- The statistical summary helps identify potential issues like outliers needing further attention.\n",
    "- Using the info() Method gives an overview of the top and bottom 30 rows of the DataFrame, useful for quick visual inspection.\n",
    "- Some statistical metrics may return \"NaN,\" indicating missing values, and the program can’t calculate statistics for that specific data type.\n",
    "- Python can connect to databases through specialized code, often written in Jupyter notebooks.\n",
    "- SQL Application Programming Interfaces (APIs) and Python DB APIs (most often used) facilitate the interaction between Python and the DBMS.\n",
    "- SQL APIs connect to DBMS with one or more API calls, build SQL statements as a text string, and use API calls to send SQL statements to the DBMS and retrieve results and statuses.\n",
    "- DB-API, Python's standard for interacting with relational databases, uses connection objects to establish and manage database connections and cursor objects to run queries and scroll through the results.\n",
    "- Connection Object methods include the cursor(), commit(), rollback(), and close() commands.\n",
    "- You can import the database module, use the Connect API to open a connection, and then create a cursor object to run queries and fetch results. \n",
    "- Remember to close the database connection to free up resources."
   ]
  }
 ],
 "metadata": {
  "kernelspec": {
   "display_name": "Python 3",
   "language": "python",
   "name": "python3"
  },
  "language_info": {
   "codemirror_mode": {
    "name": "ipython",
    "version": 3
   },
   "file_extension": ".py",
   "mimetype": "text/x-python",
   "name": "python",
   "nbconvert_exporter": "python",
   "pygments_lexer": "ipython3",
   "version": "3.12.0"
  }
 },
 "nbformat": 4,
 "nbformat_minor": 2
}
