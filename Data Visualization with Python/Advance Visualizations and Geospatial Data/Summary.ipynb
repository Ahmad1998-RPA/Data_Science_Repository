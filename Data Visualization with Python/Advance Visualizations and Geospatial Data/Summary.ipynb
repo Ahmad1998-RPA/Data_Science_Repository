{
 "cells": [
  {
   "cell_type": "markdown",
   "metadata": {},
   "source": [
    "# Summary: Advanced Visualizations and Geospatial Data\n",
    "Congratulations! You have completed this module. At this point in the course, you know: \n",
    "\n",
    "- Folium is a data visualization library in Python that helps people visualize geospatial data. \n",
    "- With Folium, you can create maps of different styles, such as street-level maps, stamen maps, and more. \n",
    "- A feature of Folium is that you can create different map styles using the tiles parameter.\n",
    "- With Folium, you can easily add markers on maps.\n",
    "- The ‘location’ parameter specifies the latitude and longitude coordinates of the center point of the map.\n",
    "- Markers play a vital role in enhancing interactivity and adding context to maps.\n",
    "- The folium.Marker() function specifies location parameters.\n",
    "- The popup parameter provides a label upon being clicked.\n",
    "- Markers can be created using “feature group.”\n",
    "- A choropleth map is a thematic map in which areas are shaded or patterned in proportion to the measurement of the statistical variable.\n",
    "- When creating a choropleth map, Folium requires a GeoJson file that includes geospatial data of the region.\n",
    "- The Mapbox Bright Tileset displays the name of every country when used on a map."
   ]
  }
 ],
 "metadata": {
  "language_info": {
   "name": "python"
  }
 },
 "nbformat": 4,
 "nbformat_minor": 2
}
