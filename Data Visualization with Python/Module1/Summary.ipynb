{
 "cells": [
  {
   "cell_type": "markdown",
   "metadata": {},
   "source": [
    "# Summary: Introduction to Data Visualization Tools\n",
    "Congratulations! You have completed this module. At this point in the course, you know: \n",
    "\n",
    "1. Data visualization is the process of presenting data in a visual format, such as charts, graphs, and maps, to help people understand and analyze data easily. \n",
    "2. Data visualization has diverse use cases, such as in business, science, healthcare, and finance. \n",
    "3. It is important to follow best practices, such as selecting appropriate visualizations for the data being presented, choosing colors and fonts that are easy to read and interpret, and minimizing clutter.\n",
    "4. There are various types of plots commonly used in data visualization.\n",
    "5. Line plots capture trends and changes over time, allowing us to see patterns and fluctuations.\n",
    "6. Bar plots compare categories or groups, providing a visual comparison of their values.\n",
    "7. Scatter plots explore relationships between variables, helping us identify correlations or trends.\n",
    "8. Box plots display the distribution of data, showcasing the median, quartiles, and outliers.\n",
    "9. Histograms illustrate the distribution of data within specific intervals, allowing us to understand its shape and concentration.\n",
    "10. Matplotlib is a plotting library that offers a wide range of plotting capabilities.\n",
    "11. Pandas is a plotting library that provides Integrated plotting functionalities for data analysis.\n",
    "12. Seaborn is a specialized library for statistical visualizations, offering attractive default aesthetics and color palettes.\n",
    "13. Folium is a Python library that allows you to create interactive and customizable maps.\n",
    "14. Plotly is an interactive and dynamic library for data visualization that supports a wide range of plot types and interactive features.\n",
    "15. PyWaffle enables you to visualize proportional representation using squares or rectangles.\n",
    "16. Matplotlib is one of the most widely used data visualization libraries in Python. \n",
    "17. Matplotlib was initially developed as an EEG/ECoG visualization tool. \n",
    "18. Matplotlib’s architecture is composed of three main layers: Backend layer, Artist layer, and the Scripting layer. \n",
    "19. The anatomy of a plot refers to the different components and elements that make up a visual representation of data.\n",
    "20. Matplotlib is a well-established data visualization library that can be integrated in different environments. \n",
    "21. Jupyter Notebook is an open-source web application that allows you to create and share documents.\n",
    "22. Matplotlib has a number of different backends available. \n",
    "23. You can easily include the label and title to your plot with plt.\n",
    "24. In order to start creating different types of plots of the data, you will need to import the data into a Pandas DataFrame.\n",
    "25. A line plot is a plot in the form of a series of data points connected by straight line segments. \n",
    "26. Line plot is one of the most basic type of chart and is common in many fields. \n",
    "27. You can generate a line plot by assigning \"line\" to 'Kind' parameter in the plot() function."
   ]
  }
 ],
 "metadata": {
  "language_info": {
   "name": "python"
  }
 },
 "nbformat": 4,
 "nbformat_minor": 2
}
