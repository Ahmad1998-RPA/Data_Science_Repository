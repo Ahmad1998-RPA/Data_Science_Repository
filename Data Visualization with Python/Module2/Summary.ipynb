{
 "cells": [
  {
   "cell_type": "markdown",
   "metadata": {},
   "source": [
    "# Summary: Basic and Specialized Visualization Tools\n",
    "Congratulations! You have completed this module. At this point in the course, you know: \n",
    "\n",
    "- A pie chart is a circular statistical graphic, divided into segments, to illustrate numerical proportion.\n",
    "- The process of creating a pie chart involves importing Matplotlib to represent a large set of data over a period of time.\n",
    "- A box plot is a way of statistically representing given data distribution through five main dimensions.\n",
    "- The five main dimensions are minimum, first quartile, median, third quartile, and maximum.\n",
    "- You can create a box plot using Matplotlib.\n",
    "- A scatter plot displays values pertaining to typically two variables against each other.\n",
    "- The process of creating a scatter plot involves importing Matplotlib to visualize a large set of data.\n",
    "- Matplotlib is a versatile plotting library that offers a flexible interface for creating various types of plots.\n",
    "- Matplotlib’s Pyplot module offers a convenient way to create and customize plots quickly.\n",
    "- Data Storytelling is the ‘art of storytelling’ that involves creating a narrative around the data.\n",
    "- Data visualization is an important aspect of data storytelling and involves creating engaging visuals."
   ]
  }
 ],
 "metadata": {
  "language_info": {
   "name": "python"
  }
 },
 "nbformat": 4,
 "nbformat_minor": 2
}
