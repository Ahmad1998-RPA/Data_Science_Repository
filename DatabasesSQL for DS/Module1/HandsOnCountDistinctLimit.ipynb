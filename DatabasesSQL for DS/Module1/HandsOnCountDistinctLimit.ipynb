{
 "cells": [
  {
   "cell_type": "markdown",
   "metadata": {},
   "source": [
    "# Hands-on Lab: COUNT, DISTINCT, LIMIT\n",
    "\n",
    "### Objectives\n",
    "After completing this lab, you will be able to:\n",
    "- Retrieve the number of rows that match a query criteria\n",
    "- Remove duplicate values from a result set and return the unique values\n",
    "- Restrict the number of rows retrieved from a table"
   ]
  },
  {
   "cell_type": "markdown",
   "metadata": {},
   "source": [
    "### Exploring the Database\n",
    "Let us first explore the SanFranciscoFilmLocations database using the Datasette tool:\n",
    "1. If the first statement listed below is not already in the Datasette textbox on the right, then copy the code below by clicking the little copy button on the bottom right of the code block and then paste it into the textbox of the Datasette tool using either Ctrl+V or right-click in the text box and choose Paste.<br>\n",
    "*Select Query to select the data from DB*<br>\n",
    "`SELECT * FROM FilmLocations;`\n",
    "2. Click Submit Query.\n",
    "3. Now, you can scroll down the table and explore all the columns and rows of the FilmLocations table to get an overall idea of the table.\n",
    "4. These are the column attribute descriptions from the FilmLocations table:<br>\n",
    "`FilmLocations(` <br>\n",
    "`Title:              titles of the films,` <br>\n",
    "`ReleaseYear:        time of public release of the films,` <br>\n",
    "`Locations:          locations of San Francisco where the films were shot,` <br>\n",
    "`FunFacts:           funny facts about the filming locations,` <br>\n",
    "`ProductionCompany:  companies who produced the films,` <br>\n",
    "`Distributor:        companies who distributed the films,` <br>\n",
    "`Director:           people who directed the films,` <br>\n",
    "`Writer:             people who wrote the films,` <br>\n",
    "`Actor1:             person 1 who acted in the films,` <br>\n",
    "`Actor2:             person 2 who acted in the films,` <br>\n",
    "`Actor3:             person 3 who acted in the films` <br>\n",
    "`)`"
   ]
  },
  {
   "cell_type": "markdown",
   "metadata": {},
   "source": [
    "### Using COUNT statement\n",
    "Let us go through some examples of COUNT-related queries.\n",
    "\n",
    "1. Suppose we want to count the number of records or rows of the \"FilmLocations\" table. The query for this would be:<br>\n",
    "`SELECT COUNT(*) FROM FilmLocations;`"
   ]
  },
  {
   "cell_type": "markdown",
   "metadata": {},
   "source": [
    "2. We want to count the number of locations of the films. But we also want to restrict the output result set so that we only retrieve the number of locations of the films written by a certain writer. The query for this can be written as:<br>\n",
    "`SELECT COUNT(Locations) FROM FilmLocations WHERE Writer=\"James Cameron\";`"
   ]
  },
  {
   "cell_type": "markdown",
   "metadata": {},
   "source": [
    "### Using DISTINCT statement\n",
    "In this exercise, you will go through some examples of using DISTINCT in queries.\n",
    "\n",
    "1. Assume that we want to retrieve the titles of all films in the table so that duplicates will be discarded in the output result set.<br>\n",
    "`SELECT DISTINCT Title FROM FilmLocations;`\n",
    "2. We want to retrieve the count of release years of the films produced by a specific company so that duplicate release years of those films will be discarded in the count.<br>\n",
    "`SELECT COUNT(DISTINCT ReleaseYear) FROM FilmLocations WHERE ProductionCompany=\"Warner Bros. Pictures\";`"
   ]
  },
  {
   "cell_type": "markdown",
   "metadata": {},
   "source": [
    "### Using LIMIT statement\n",
    "In this exercise, you will first go through some examples of using LIMIT in queries.\n",
    "\n",
    "1. Retrieve only the first 25 rows from the table so that rows other than those are not in the output result set.<br>\n",
    "`SELECT * FROM FilmLocations LIMIT 25;`\n",
    "2. Now, we want to retrieve 15 rows from the table starting from row 11.<br>\n",
    "`SELECT * FROM FilmLocations LIMIT 15 OFFSET 10;`"
   ]
  },
  {
   "cell_type": "markdown",
   "metadata": {},
   "source": [
    "## Exercise:\n",
    "1. Retrieve the number of locations of the films which are directed by `Woody Allen`.<br>\n",
    "Query: `SELECT COUNT(Locations) FROM FilmLocations WHERE Director=\"Woody Allen\";`\n",
    "2. Retrieve the number of films shot at Russian Hill.<br>\n",
    "Query: `SELECT COUNT(Title) FROM FilmLocations WHERE Locations=\"Russian Hill\";`\n",
    "3. Retrieve the number of rows having a release year older than 1950 from the `\"FilmLocations\"` table.<br>\n",
    "Query: `SELECT COUNT(*) FROM FilmLocations WHERE ReleaseYear<1950;`"
   ]
  },
  {
   "cell_type": "markdown",
   "metadata": {},
   "source": [
    "### DISTINCT Practice:\n",
    "1. Retrieve the names of all unique films released in the 21st century and onwards, along with their release years.<br>\n",
    "Query: `SELECT DISTINCT Title, ReleaseYear FROM FilmLocations WHERE ReleaseYear>=2001;`\n",
    "2. Retrieve the directors' names and their distinct films shot at City Hall.\n",
    "Query: `SELECT DISTINCT Title, Director FROM FilmLocations WHERE Locations=\"City Hall\";`\n",
    "3. Retrieve the number of distributors who distributed films with the 1st actor, Clint Eastwood.\n",
    "Query: `SELECT COUNT(DISTINCT Distributor) FROM FilmLocations WHERE Actor1=\"Clint Eastwood\";`"
   ]
  },
  {
   "cell_type": "markdown",
   "metadata": {},
   "source": [
    "## LIMIT Practice\n",
    "1. Retrieve the names of the first 50 films.<br>\n",
    "Query: `SELECT DISTINCT Title FROM FilmLocations LIMIT 50;`\n",
    "2. Retrieve the first 10 film names released in 2015.<br>\n",
    "Query: `SELECT DISTINCT Title FROM FilmLocations WHERE ReleaseYear=2015 LIMIT 10;`\n",
    "3. Retrieve the next 3 film names that follow after the first 5 films released in 2015.<br>\n",
    "Query: `SELECT DISTINCT Title FROM FilmLocations WHERE ReleaseYear=2015 LIMIT 3 OFFSET 5;`"
   ]
  }
 ],
 "metadata": {
  "language_info": {
   "name": "python"
  }
 },
 "nbformat": 4,
 "nbformat_minor": 2
}
